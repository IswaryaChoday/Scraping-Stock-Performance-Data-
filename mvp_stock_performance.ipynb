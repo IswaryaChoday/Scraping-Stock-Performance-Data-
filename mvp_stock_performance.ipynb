{
 "cells": [
  {
   "cell_type": "code",
   "execution_count": 6,
   "metadata": {},
   "outputs": [
    {
     "name": "stdout",
     "output_type": "stream",
     "text": [
      "Requirement already satisfied: beautifulsoup4 in /Users/ishwaryabolla/anaconda3/lib/python3.7/site-packages (4.7.1)\n",
      "Requirement already satisfied: soupsieve>=1.2 in /Users/ishwaryabolla/anaconda3/lib/python3.7/site-packages (from beautifulsoup4) (1.8)\n",
      "Requirement already satisfied: requests in /Users/ishwaryabolla/anaconda3/lib/python3.7/site-packages (2.22.0)\n",
      "Requirement already satisfied: certifi>=2017.4.17 in /Users/ishwaryabolla/anaconda3/lib/python3.7/site-packages (from requests) (2019.6.16)\n",
      "Requirement already satisfied: idna<2.9,>=2.5 in /Users/ishwaryabolla/anaconda3/lib/python3.7/site-packages (from requests) (2.8)\n",
      "Requirement already satisfied: chardet<3.1.0,>=3.0.2 in /Users/ishwaryabolla/anaconda3/lib/python3.7/site-packages (from requests) (3.0.4)\n",
      "Requirement already satisfied: urllib3!=1.25.0,!=1.25.1,<1.26,>=1.21.1 in /Users/ishwaryabolla/anaconda3/lib/python3.7/site-packages (from requests) (1.24.2)\n",
      "Requirement already satisfied: pandas in /Users/ishwaryabolla/anaconda3/lib/python3.7/site-packages (0.24.2)\n",
      "Requirement already satisfied: python-dateutil>=2.5.0 in /Users/ishwaryabolla/anaconda3/lib/python3.7/site-packages (from pandas) (2.8.0)\n",
      "Requirement already satisfied: pytz>=2011k in /Users/ishwaryabolla/anaconda3/lib/python3.7/site-packages (from pandas) (2019.1)\n",
      "Requirement already satisfied: numpy>=1.12.0 in /Users/ishwaryabolla/anaconda3/lib/python3.7/site-packages (from pandas) (1.16.4)\n",
      "Requirement already satisfied: six>=1.5 in /Users/ishwaryabolla/anaconda3/lib/python3.7/site-packages (from python-dateutil>=2.5.0->pandas) (1.12.0)\n",
      "Requirement already satisfied: mysql-connector-python in /Users/ishwaryabolla/anaconda3/lib/python3.7/site-packages (8.0.21)\n",
      "Requirement already satisfied: protobuf>=3.0.0 in /Users/ishwaryabolla/anaconda3/lib/python3.7/site-packages (from mysql-connector-python) (3.12.2)\n",
      "Requirement already satisfied: six>=1.9 in /Users/ishwaryabolla/anaconda3/lib/python3.7/site-packages (from protobuf>=3.0.0->mysql-connector-python) (1.12.0)\n",
      "Requirement already satisfied: setuptools in /Users/ishwaryabolla/anaconda3/lib/python3.7/site-packages (from protobuf>=3.0.0->mysql-connector-python) (41.0.1)\n"
     ]
    }
   ],
   "source": [
    "! pip install beautifulsoup4\n",
    "! pip install requests\n",
    "! pip install pandas\n",
    "! pip install mysql-connector-python"
   ]
  },
  {
   "cell_type": "code",
   "execution_count": 1,
   "metadata": {},
   "outputs": [],
   "source": [
    "import requests\n",
    "import mysql.connector\n",
    "from bs4 import BeautifulSoup\n",
    "import uuid \n",
    "\n",
    "main_url = 'https://hamptonroadsalliance.com/'\n",
    "page = requests.get(main_url)\n",
    "soup = BeautifulSoup(page.content, 'html.parser')\n",
    "main_page_content = soup.find(id = 'page#26')\n",
    "# Get Sector Names\n",
    "sectors_list = ()\n",
    "for a in main_page_content.find_all('a', href=True): \n",
    "    if a.text: \n",
    "        value = a['href']\n",
    "        sectors_list=sectors_list+(value.replace('/',''),)\n",
    "        "
   ]
  },
  {
   "cell_type": "code",
   "execution_count": 2,
   "metadata": {},
   "outputs": [
    {
     "data": {
      "text/plain": [
       "('distribution-and-logistics',\n",
       " 'business-shared-services',\n",
       " 'advanced-manufacturing',\n",
       " 'food-beverage-processing',\n",
       " 'information-technology',\n",
       " 'maritime-shipbuilding-repair')"
      ]
     },
     "execution_count": 2,
     "metadata": {},
     "output_type": "execute_result"
    }
   ],
   "source": [
    "sectors_list"
   ]
  },
  {
   "cell_type": "code",
   "execution_count": 3,
   "metadata": {},
   "outputs": [],
   "source": [
    "# Database Connection\n",
    "mydb = mysql.connector.connect(\n",
    "    host=\"localhost\",\n",
    "    user=\"admin\",\n",
    "    password=\"monarchs\",\n",
    "    database=\"stocks\"\n",
    ")\n",
    "mycursor = mydb.cursor()"
   ]
  },
  {
   "cell_type": "code",
   "execution_count": 4,
   "metadata": {},
   "outputs": [
    {
     "name": "stdout",
     "output_type": "stream",
     "text": [
      "[('c4092048-875b-4dd5-b27c-12ff0bc87509', 'distribution-and-logistics'), ('804ef924-731f-4669-a44b-e201f7145f99', 'business-shared-services'), ('eed704e9-416a-467e-94a6-4922b360713b', 'advanced-manufacturing'), ('d094a1f5-bdca-46b4-808c-6c7948a2d284', 'food-beverage-processing'), ('aa5e1cbc-6094-45a6-a68d-e233283fa9fe', 'information-technology'), ('a020c543-0d51-49a0-a207-119ec117efa6', 'maritime-shipbuilding-repair')]\n"
     ]
    }
   ],
   "source": [
    "# Insert data into sector table\n",
    "sectors_list_array = []\n",
    "for value in sectors_list:\n",
    "    sectors_list_array.append((str(uuid.uuid4()), value))\n",
    "print(sectors_list_array)"
   ]
  },
  {
   "cell_type": "code",
   "execution_count": 5,
   "metadata": {},
   "outputs": [
    {
     "name": "stdout",
     "output_type": "stream",
     "text": [
      "6 record inserted\n"
     ]
    }
   ],
   "source": [
    "#Inserting into the database    \n",
    "sql = \"INSERT INTO sector (sector_id, sector_name) VALUES (%s, %s)\"\n",
    "mycursor.executemany(sql,sectors_list_array)\n",
    "mydb.commit()\n",
    "print(mycursor.rowcount, \"record inserted\")"
   ]
  },
  {
   "cell_type": "code",
   "execution_count": 5,
   "metadata": {},
   "outputs": [],
   "source": [
    "# Insert companies into company table \n",
    "\n",
    "for sector in sectors_list:\n",
    "    page = requests.get(main_url+sector)\n",
    "    soup = BeautifulSoup(page.content, 'html.parser')\n",
    "    companies_list = ()\n",
    "    companies_list = companies_list + ()\n",
    "    for a in soup.find_all(\"h4\",\"el-title uk-h4 uk-margin-top uk-margin-remove-bottom\"):\n",
    "        if a.text:\n",
    "            value = a.text.strip()\n"
   ]
  },
  {
   "cell_type": "code",
   "execution_count": 6,
   "metadata": {},
   "outputs": [
    {
     "name": "stdout",
     "output_type": "stream",
     "text": [
      "48\n",
      "48\n"
     ]
    }
   ],
   "source": [
    "# Get company_id, company_name, stock into company table \n",
    "# Get company_id and sector_id into company_sector table\n",
    "import uuid\n",
    "sector_companies_list =()\n",
    "sector_companies_list_array = []\n",
    "companies_list = ()\n",
    "companies_list_array = []\n",
    "for sector in sectors_list:\n",
    "    page = requests.get(main_url+sector)\n",
    "    sql = \"SELECT sector_id FROM sector where sector_name=%s\"\n",
    "    adr = (sector,)\n",
    "    mycursor.execute(sql, adr)\n",
    "    sector_id = mycursor.fetchone()[0]\n",
    "    soup = BeautifulSoup(page.content, 'html.parser')\n",
    "    sector_companies_list = ()\n",
    "    sector_companies_list = sector_companies_list + (sector_id,)\n",
    "    for a in soup.find_all(\"h4\",\"el-title uk-h4 uk-margin-top uk-margin-remove-bottom\"):\n",
    "        if a.text:\n",
    "            value = a.text.strip()\n",
    "            uuid_value = str(uuid.uuid4())\n",
    "            companies_list=companies_list+(uuid_value,value)+ ('',)\n",
    "            sector_companies_list = sector_companies_list + (uuid_value,)\n",
    "            sector_companies_list_array.append(sector_companies_list)\n",
    "            sector_companies_list = ()\n",
    "            sector_companies_list = sector_companies_list + (sector_id,)\n",
    "            companies_list_array.append(companies_list)\n",
    "            companies_list = ()\n",
    "\n",
    "print (len(companies_list_array))\n",
    "print (len(sector_companies_list_array))\n",
    "\n"
   ]
  },
  {
   "cell_type": "code",
   "execution_count": 7,
   "metadata": {},
   "outputs": [
    {
     "name": "stdout",
     "output_type": "stream",
     "text": [
      "48 record inserted\n"
     ]
    }
   ],
   "source": [
    "# Insert into company table \n",
    "insert_into_company_table = \"INSERT INTO company (company_id, company_name, stock_symbol) VALUES (%s, %s, %s)\"\n",
    "mycursor.executemany(insert_into_company_table,companies_list_array)\n",
    "mydb.commit()\n",
    "print(mycursor.rowcount, \"record inserted\")"
   ]
  },
  {
   "cell_type": "code",
   "execution_count": 8,
   "metadata": {},
   "outputs": [
    {
     "name": "stdout",
     "output_type": "stream",
     "text": [
      "48 record inserted\n"
     ]
    }
   ],
   "source": [
    "# Insert into and company_sector table\n",
    "insert_into_sector_company_table = \"INSERT INTO companySector (sector_id, company_id) VALUES (%s, %s)\"\n",
    "mycursor.executemany(insert_into_sector_company_table,sector_companies_list_array) \n",
    "mydb.commit()\n",
    "print(mycursor.rowcount, \"record inserted\")"
   ]
  },
  {
   "cell_type": "code",
   "execution_count": null,
   "metadata": {},
   "outputs": [],
   "source": [
    "main_url = 'https://hamptonroadsalliance.com/'\n",
    "page = requests.get(main_url)\n",
    "soup = BeautifulSoup(page.content, 'html.parser')\n",
    "main_page_content = soup.find(id = 'page#26')\n",
    "\n",
    "# Get Sector Names\n",
    "sectors_list = ()\n",
    "for a in main_page_content.find_all('a', href=True): \n",
    "    if a.text: \n",
    "        value = a['href']\n",
    "        sectors_list=sectors_list+(value.replace('/',''),)"
   ]
  },
  {
   "cell_type": "code",
   "execution_count": null,
   "metadata": {},
   "outputs": [],
   "source": []
  }
 ],
 "metadata": {
  "kernelspec": {
   "display_name": "Python 3",
   "language": "python",
   "name": "python3"
  },
  "language_info": {
   "codemirror_mode": {
    "name": "ipython",
    "version": 3
   },
   "file_extension": ".py",
   "mimetype": "text/x-python",
   "name": "python",
   "nbconvert_exporter": "python",
   "pygments_lexer": "ipython3",
   "version": "3.7.3"
  }
 },
 "nbformat": 4,
 "nbformat_minor": 2
}
